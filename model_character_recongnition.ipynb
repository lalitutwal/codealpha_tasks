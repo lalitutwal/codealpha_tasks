# Logistic Regression on EMNIST Letters A to Z

import numpy as np
import tensorflow as tf
import tensorflow_datasets as tfds
from sklearn.linear_model import LogisticRegression
from sklearn.metrics import accuracy_score
from sklearn.model_selection import train_test_split

# Load EMNIST Letters dataset (subset for speed)
ds = tfds.load('emnist/letters', split='train', as_supervised=True)

# Preprocessing: flatten images and normalize pixel values
X = []
y = []
for image, label in tfds.as_numpy(ds.take(10000)):  # use a small subset
    X.append(image.flatten() / 255.0)
    y.append(label - 1)  # Shift labels from 1–26 to 0–25

X = np.array(X)
y = np.array(y)

# Split data into training and testing
X_train, X_test, y_train, y_test = train_test_split(X, y, test_size=0.2, random_state=42)

# Train the logistic regression model
model = LogisticRegression(max_iter=1000, solver='lbfgs', multi_class='multinomial')
model.fit(X_train, y_train)

# Evaluate accuracy
y_pred = model.predict(X_test)
print("Test Accuracy (A–Z):", accuracy_score(y_test, y_pred))
