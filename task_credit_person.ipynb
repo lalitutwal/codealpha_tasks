import pandas as pd
from sklearn.model_selection import train_test_split
from sklearn.linear_model import LogisticRegression
from sklearn.metrics import accuracy_score

# Create sample dataset (you can replace this with real data)
data = pd.DataFrame({
    'age': [25, 40, 35, 50, 23, 60, 45, 30, 70, 33],
    'income': [30000, 70000, 50000, 100000, 25000, 90000, 75000, 40000, 110000, 45000],
    'debt': [5000, 10000, 8000, 12000, 2000, 15000, 11000, 7000, 18000, 6000],
    'medical_bills': [200, 1000, 500, 300, 100, 2000, 1500, 600, 2200, 400],
    'creditworthy': [1, 1, 1, 1, 0, 1, 0, 0, 0, 1]  # 1 = good, 0 = bad
})

# Prepare features and labels
X = data[['age', 'income', 'debt', 'medical_bills']]
y = data['creditworthy']

# Split into train/test
X_train, X_test, y_train, y_test = train_test_split(X, y, test_size=0.3, random_state=42)

# Train logistic regression model
model = LogisticRegression()
model.fit(X_train, y_train)

# Predict and evaluate
y_pred = model.predict(X_test)
print("Accuracy:", accuracy_score(y_test, y_pred))

# Predict for a new person
new_person = pd.DataFrame({
    'age': [38],
    'income': [60000],
    'debt': [4000],
    'medical_bills': [3000]
})
prediction = model.predict(new_person)
print("Creditworthy?" , "Yes" if prediction[0] == 1 else "No")
